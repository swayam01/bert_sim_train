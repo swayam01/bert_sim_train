{
 "cells": [
  {
   "cell_type": "code",
   "execution_count": 1,
   "metadata": {},
   "outputs": [],
   "source": [
    "import os\n",
    "data_file='quora_duplicate_questions.tsv'"
   ]
  },
  {
   "cell_type": "code",
   "execution_count": 2,
   "metadata": {},
   "outputs": [],
   "source": [
    "LOAD_ENCODING_FROM_FILE=1 \n",
    "encoding_data_file_quest1='encoding_quest1'\n",
    "encoding_data_file_quest2='encoding_quest2'\n",
    "encoding_data_file_label='label'"
   ]
  },
  {
   "cell_type": "code",
   "execution_count": 3,
   "metadata": {},
   "outputs": [
    {
     "name": "stderr",
     "output_type": "stream",
     "text": [
      "/home/swayam/anaconda3/envs/dia/lib/python3.5/site-packages/h5py/__init__.py:36: FutureWarning: Conversion of the second argument of issubdtype from `float` to `np.floating` is deprecated. In future, it will be treated as `np.float64 == np.dtype(float).type`.\n",
      "  from ._conv import register_converters as _register_converters\n",
      "Using TensorFlow backend.\n"
     ]
    }
   ],
   "source": [
    "import numpy as np\n",
    "import pandas as pd\n",
    "import tensorflow as tf\n",
    "import re\n",
    "from bert_serving.client import BertClient\n",
    "from keras.preprocessing.text import Tokenizer\n",
    "from keras.preprocessing.sequence import pad_sequences\n",
    "import numpy as np\n",
    "import pickle\n",
    "from keras import models\n",
    "from keras import layers\n",
    "from keras import optimizers\n",
    "from keras.layers import Dropout"
   ]
  },
  {
   "cell_type": "code",
   "execution_count": 5,
   "metadata": {},
   "outputs": [],
   "source": [
    "maxlen = 256"
   ]
  },
  {
   "cell_type": "code",
   "execution_count": 6,
   "metadata": {},
   "outputs": [],
   "source": [
    "# Save the encodings in a file \n",
    "if LOAD_ENCODING_FROM_FILE == 1:\n",
    "    with open(encoding_data_file_quest1, \"rb\") as fp:\n",
    "        vec1=pickle.load(fp)\n",
    "    with open(encoding_data_file_quest2, \"rb\") as fp:   \n",
    "        vec2=pickle.load(fp)\n",
    "    with open(encoding_data_file_label, \"rb\") as fp: \n",
    "        label=pickle.load(fp)"
   ]
  },
  {
   "cell_type": "code",
   "execution_count": 7,
   "metadata": {},
   "outputs": [],
   "source": [
    "vec1 = np.concatenate( vec1, axis=0 )\n",
    "vec2 = np.concatenate( vec2, axis=0 )"
   ]
  },
  {
   "cell_type": "code",
   "execution_count": 8,
   "metadata": {},
   "outputs": [
    {
     "name": "stdout",
     "output_type": "stream",
     "text": [
      "(1000, 768)\n",
      "(1000, 768)\n",
      "(1000,)\n"
     ]
    }
   ],
   "source": [
    "train_vec1 = np.asarray(vec1, np.float32)\n",
    "train_vec2 = np.asarray(vec2, np.float32)\n",
    "train_label = np.asarray(label,np.float32)\n",
    "print(np.shape(train_vec1))\n",
    "print(np.shape(train_vec2))\n",
    "print(np.shape(train_label))"
   ]
  },
  {
   "cell_type": "code",
   "execution_count": 9,
   "metadata": {},
   "outputs": [],
   "source": [
    "import keras\n",
    "from keras.layers import Input, LSTM, Dense\n",
    "from keras.models import Model"
   ]
  },
  {
   "cell_type": "code",
   "execution_count": 10,
   "metadata": {},
   "outputs": [],
   "source": [
    "inp1= Input(shape=(768,))\n",
    "inp2= Input(shape=(768,))"
   ]
  },
  {
   "cell_type": "code",
   "execution_count": 11,
   "metadata": {},
   "outputs": [
    {
     "name": "stdout",
     "output_type": "stream",
     "text": [
      "WARNING:tensorflow:From /home/swayam/anaconda3/envs/dia/lib/python3.5/site-packages/tensorflow_core/python/ops/resource_variable_ops.py:1630: calling BaseResourceVariable.__init__ (from tensorflow.python.ops.resource_variable_ops) with constraint is deprecated and will be removed in a future version.\n",
      "Instructions for updating:\n",
      "If using Keras pass *_constraint arguments to layers.\n",
      "Model: \"model_1\"\n",
      "__________________________________________________________________________________________________\n",
      "Layer (type)                    Output Shape         Param #     Connected to                     \n",
      "==================================================================================================\n",
      "input_1 (InputLayer)            (None, 768)          0                                            \n",
      "__________________________________________________________________________________________________\n",
      "input_2 (InputLayer)            (None, 768)          0                                            \n",
      "__________________________________________________________________________________________________\n",
      "concatenate_1 (Concatenate)     (None, 1536)         0           input_1[0][0]                    \n",
      "                                                                 input_2[0][0]                    \n",
      "__________________________________________________________________________________________________\n",
      "dense_1 (Dense)                 (None, 1024)         1573888     concatenate_1[0][0]              \n",
      "__________________________________________________________________________________________________\n",
      "dropout_1 (Dropout)             (None, 1024)         0           dense_1[0][0]                    \n",
      "__________________________________________________________________________________________________\n",
      "dense_2 (Dense)                 (None, 256)          262400      dropout_1[0][0]                  \n",
      "__________________________________________________________________________________________________\n",
      "dropout_2 (Dropout)             (None, 256)          0           dense_2[0][0]                    \n",
      "__________________________________________________________________________________________________\n",
      "dense_3 (Dense)                 (None, 64)           16448       dropout_2[0][0]                  \n",
      "__________________________________________________________________________________________________\n",
      "dense_4 (Dense)                 (None, 1)            65          dense_3[0][0]                    \n",
      "==================================================================================================\n",
      "Total params: 1,852,801\n",
      "Trainable params: 1,852,801\n",
      "Non-trainable params: 0\n",
      "__________________________________________________________________________________________________\n"
     ]
    }
   ],
   "source": [
    "x = keras.layers.concatenate([inp1, inp2],axis=-1)\n",
    "x = Dense(1024, activation='relu')(x) #\n",
    "x = Dropout(0.5) (x) #\n",
    "x = Dense(256, activation='relu')(x) #\n",
    "x = Dropout(0.5) (x) #\n",
    "x = Dense(64, activation='relu')(x)\n",
    "out=Dense(1,activation='sigmoid')(x)\n",
    "model = Model(inputs=[inp1,inp2], outputs=out)\n",
    "model.summary()"
   ]
  },
  {
   "cell_type": "code",
   "execution_count": 12,
   "metadata": {},
   "outputs": [
    {
     "name": "stdout",
     "output_type": "stream",
     "text": [
      "WARNING:tensorflow:From /home/swayam/anaconda3/envs/dia/lib/python3.5/site-packages/tensorflow_core/python/ops/nn_impl.py:183: where (from tensorflow.python.ops.array_ops) is deprecated and will be removed in a future version.\n",
      "Instructions for updating:\n",
      "Use tf.where in 2.0, which has the same broadcast rule as np.where\n"
     ]
    }
   ],
   "source": [
    "model.compile(optimizer='rmsprop',loss='binary_crossentropy',metrics=['acc'])"
   ]
  },
  {
   "cell_type": "code",
   "execution_count": 13,
   "metadata": {},
   "outputs": [
    {
     "name": "stdout",
     "output_type": "stream",
     "text": [
      "WARNING:tensorflow:From /home/swayam/anaconda3/envs/dia/lib/python3.5/site-packages/keras/backend/tensorflow_backend.py:422: The name tf.global_variables is deprecated. Please use tf.compat.v1.global_variables instead.\n",
      "\n",
      "Train on 800 samples, validate on 200 samples\n",
      "Epoch 1/30\n",
      "800/800 [==============================] - 1s 637us/step - loss: 1.0690 - acc: 0.5675 - val_loss: 0.6664 - val_acc: 0.6000\n",
      "Epoch 2/30\n",
      "800/800 [==============================] - 0s 490us/step - loss: 0.7345 - acc: 0.5888 - val_loss: 0.7193 - val_acc: 0.4000\n",
      "Epoch 3/30\n",
      "800/800 [==============================] - 0s 479us/step - loss: 0.7131 - acc: 0.5925 - val_loss: 0.6918 - val_acc: 0.5000\n",
      "Epoch 4/30\n",
      "800/800 [==============================] - 0s 476us/step - loss: 0.7024 - acc: 0.5813 - val_loss: 0.6693 - val_acc: 0.6000\n",
      "Epoch 5/30\n",
      "800/800 [==============================] - 0s 475us/step - loss: 0.6975 - acc: 0.5987 - val_loss: 0.7033 - val_acc: 0.4400\n",
      "Epoch 6/30\n",
      "800/800 [==============================] - 0s 499us/step - loss: 0.6833 - acc: 0.5962 - val_loss: 0.6829 - val_acc: 0.5500\n",
      "Epoch 7/30\n",
      "800/800 [==============================] - 0s 472us/step - loss: 0.6874 - acc: 0.6000 - val_loss: 0.6664 - val_acc: 0.6100\n",
      "Epoch 8/30\n",
      "800/800 [==============================] - 0s 477us/step - loss: 0.6815 - acc: 0.5888 - val_loss: 0.6617 - val_acc: 0.6000\n",
      "Epoch 9/30\n",
      "800/800 [==============================] - 0s 471us/step - loss: 0.6643 - acc: 0.6075 - val_loss: 0.6535 - val_acc: 0.6000\n",
      "Epoch 10/30\n",
      "800/800 [==============================] - 0s 475us/step - loss: 0.6620 - acc: 0.6100 - val_loss: 0.6570 - val_acc: 0.6000\n",
      "Epoch 11/30\n",
      "800/800 [==============================] - 0s 475us/step - loss: 0.6720 - acc: 0.6062 - val_loss: 0.6582 - val_acc: 0.6100\n",
      "Epoch 12/30\n",
      "800/800 [==============================] - 0s 499us/step - loss: 0.6535 - acc: 0.6037 - val_loss: 0.6459 - val_acc: 0.6100\n",
      "Epoch 13/30\n",
      "800/800 [==============================] - 0s 503us/step - loss: 0.6479 - acc: 0.6525 - val_loss: 0.6524 - val_acc: 0.6450\n",
      "Epoch 14/30\n",
      "800/800 [==============================] - 0s 497us/step - loss: 0.6415 - acc: 0.6087 - val_loss: 0.6505 - val_acc: 0.6350\n",
      "Epoch 15/30\n",
      "800/800 [==============================] - 0s 506us/step - loss: 0.6302 - acc: 0.6137 - val_loss: 0.6591 - val_acc: 0.5650\n",
      "Epoch 16/30\n",
      "800/800 [==============================] - 0s 517us/step - loss: 0.6348 - acc: 0.6413 - val_loss: 0.6370 - val_acc: 0.6650\n",
      "Epoch 17/30\n",
      "800/800 [==============================] - 0s 558us/step - loss: 0.6328 - acc: 0.6150 - val_loss: 0.6679 - val_acc: 0.5700\n",
      "Epoch 18/30\n",
      "800/800 [==============================] - 0s 494us/step - loss: 0.6299 - acc: 0.6212 - val_loss: 0.6386 - val_acc: 0.6550\n",
      "Epoch 19/30\n",
      "800/800 [==============================] - 0s 486us/step - loss: 0.6115 - acc: 0.6562 - val_loss: 0.6604 - val_acc: 0.5300\n",
      "Epoch 20/30\n",
      "800/800 [==============================] - 0s 550us/step - loss: 0.6049 - acc: 0.6600 - val_loss: 0.6334 - val_acc: 0.6500\n",
      "Epoch 21/30\n",
      "800/800 [==============================] - 0s 485us/step - loss: 0.6283 - acc: 0.6313 - val_loss: 0.6463 - val_acc: 0.6000\n",
      "Epoch 22/30\n",
      "800/800 [==============================] - 0s 508us/step - loss: 0.5984 - acc: 0.6513 - val_loss: 0.6307 - val_acc: 0.6200\n",
      "Epoch 23/30\n",
      "800/800 [==============================] - 0s 552us/step - loss: 0.6114 - acc: 0.6388 - val_loss: 0.6289 - val_acc: 0.6750\n",
      "Epoch 24/30\n",
      "800/800 [==============================] - 0s 485us/step - loss: 0.5975 - acc: 0.6600 - val_loss: 0.6184 - val_acc: 0.6800\n",
      "Epoch 25/30\n",
      "800/800 [==============================] - 0s 482us/step - loss: 0.5856 - acc: 0.6575 - val_loss: 0.6233 - val_acc: 0.6600\n",
      "Epoch 26/30\n",
      "800/800 [==============================] - 0s 492us/step - loss: 0.5955 - acc: 0.6587 - val_loss: 0.6198 - val_acc: 0.6650\n",
      "Epoch 27/30\n",
      "800/800 [==============================] - 0s 538us/step - loss: 0.5995 - acc: 0.6513 - val_loss: 0.6842 - val_acc: 0.6150\n",
      "Epoch 28/30\n",
      "800/800 [==============================] - 0s 524us/step - loss: 0.5881 - acc: 0.6762 - val_loss: 0.6193 - val_acc: 0.6650\n",
      "Epoch 29/30\n",
      "800/800 [==============================] - 0s 487us/step - loss: 0.5862 - acc: 0.6700 - val_loss: 0.6201 - val_acc: 0.6600\n",
      "Epoch 30/30\n",
      "800/800 [==============================] - 0s 584us/step - loss: 0.5731 - acc: 0.6637 - val_loss: 0.6200 - val_acc: 0.6450\n"
     ]
    }
   ],
   "source": [
    "history=model.fit([train_vec1, train_vec2], train_label, epochs=30,batch_size=32,validation_split=0.2)"
   ]
  },
  {
   "cell_type": "code",
   "execution_count": 15,
   "metadata": {},
   "outputs": [
    {
     "data": {
      "image/png": "[encoded data removed]",
      "text/plain": [
       "<Figure size 432x288 with 1 Axes>"
      ]
     },
     "metadata": {
      "needs_background": "light"
     },
     "output_type": "display_data"
    },
    {
     "data": {
      "image/png": "[encoded data removed]",
      "text/plain": [
       "<Figure size 432x288 with 1 Axes>"
      ]
     },
     "metadata": {
      "needs_background": "light"
     },
     "output_type": "display_data"
    }
   ],
   "source": [
    "import matplotlib.pyplot as plt\n",
    "acc = history.history['acc']\n",
    "val_acc = history.history['val_acc']\n",
    "loss = history.history['loss']\n",
    "val_loss = history.history['val_loss']\n",
    "epochs = range(1, len(acc) + 1)\n",
    "plt.plot(epochs, acc, 'bo', label='Training acc')\n",
    "plt.plot(epochs, val_acc, 'b', label='Validation acc')\n",
    "plt.title('Training and validation accuracy')\n",
    "plt.legend()\n",
    "plt.figure()\n",
    "plt.plot(epochs, loss, 'bo', label='Training loss')\n",
    "plt.plot(epochs, val_loss, 'b', label='Validation loss')\n",
    "plt.title('Training and validation loss')\n",
    "plt.legend()\n",
    "plt.show()"
   ]
  },
  {
   "cell_type": "code",
   "execution_count": 16,
   "metadata": {},
   "outputs": [],
   "source": [
    "#model.save('third_model.h5')"
   ]
  },
  {
   "cell_type": "code",
   "execution_count": null,
   "metadata": {},
   "outputs": [],
   "source": []
  }
 ],
 "metadata": {
  "kernelspec": {
   "display_name": "Python 3",
   "language": "python",
   "name": "python3"
  },
  "language_info": {
   "codemirror_mode": {
    "name": "ipython",
    "version": 3
   },
   "file_extension": ".py",
   "mimetype": "text/x-python",
   "name": "python",
   "nbconvert_exporter": "python",
   "pygments_lexer": "ipython3",
   "version": "3.5.5"
  }
 },
 "nbformat": 4,
 "nbformat_minor": 2
}
