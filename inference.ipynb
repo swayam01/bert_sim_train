{
 "cells": [
  {
   "cell_type": "code",
   "execution_count": 5,
   "metadata": {},
   "outputs": [],
   "source": [
    "import numpy as np\n",
    "import pandas as pd\n",
    "from bert_serving.client import BertClient\n",
    "from sklearn.metrics.pairwise import cosine_similarity\n",
    "from keras.models import load_model"
   ]
  },
  {
   "cell_type": "code",
   "execution_count": 6,
   "metadata": {},
   "outputs": [],
   "source": [
    "MODEL_FILE='second_model.h5'"
   ]
  },
  {
   "cell_type": "code",
   "execution_count": 7,
   "metadata": {},
   "outputs": [],
   "source": [
    "#Input \n",
    "docs_input=[\n",
    "\"Naftali (Tali) \\n Tishby Physicist, professor of computer science and computational neuroscientist. The Ruth and Stan Flinkman professor of Brain Research \\n I work at the interfaces between computer science, physics, and biology which provide some of the most challenging problems in today’s science and technology. We focus on organizing computational principles that govern information processing in biology, at all levels. To this end, we employ and develop methods that stem from statistical physics, information theory and computational learning theory, to analyze biological data and develop biologically inspired algorithms that can account for the observed performance of biological systems. We hope to find simple yet powerful computational mechanisms that may characterize evolved and adaptive systems, from the molecular level to the whole computational brain and interacting populations.\",\n",
    "\"Jurgen Schmidhuber's home page \\n Since age 15 or so, the main goal of professor Jürgen Schmidhuber has been to build a self-improving Artificial Intelligence (AI) smarter than himself, then retire. His lab's Deep Learning Neural Networks (since 1991) such as Long Short-Term Memory (LSTM) have transformed machine learning and AI, and are now (2017) available to billions of users through the world's most valuable public companies. He also generalized algorithmic information theory and the many-worlds theory of physics, and introduced the concept of Low-Complexity Art, the information age's extreme form of minimal art. He is recipient of numerous awards, and Chief Scientist of the company NNAISENSE, which aims at building the first practical general purpose AI. He is also advising various governments on AI strategies. Teaching Master's in Artifical Intelligence (Fall 2019)\",\n",
    "\"Hector Zenil \\n I also lead the Algorithmic Nature Group, the Paris-based lab that started the Online Algorithmic Complexity Calculator and the Human Randomness Perception and Generation Project (triggering wide media coverage), an inverse Turing test performed on ~3.4K people.​  Previously, I was a Research Associate at the Behavioural and Evolutionary Theory Lab at the Department of Computer Science at the University of Sheffield in the UK before joining the Department of Computer Science at the University of Oxford as a Senior Researcher (faculty member) and director of Oxford Immune Algorithmics. I am also a member of the Mexican National System of Researchers (SNI II), and an elected member of the London Mathematical Society in the UK. \",\n",
    "\"Aditya Sharma \\n Information Theory of Deep Learning In this post, I will try to summarize the findings and research done by Prof. Naftali Tishby which he shares in his talk on Information Theory of Deep Learning at Stanford University recently. There have been many previous versions of the same talk so don’t be surprised if you have already seen one of his talks on the same topic. Most of the summary will be based on his research and I will try to include some relevant mathematics (not everything) for better understanding of the concepts\",\n",
    "\"David MacKay \\n The Back Cover \\n Information theory and inference, often taught separately, are here united in one entertaining textbook. These topics lie at the heart of many exciting areas of contemporary science and engineering - communication, signal processing, data mining, machine learning, pattern recognition, computational neuroscience, bioinformatics, and cryptography. This is an extraordinary and important book, generous with insight and rich with detail in statistics, information theory, and probabilistic modeling across a wide swathe of standard, creatively original, and delightfully quirky topics. David MacKay is an uncompromisingly lucid thinker, from whom students, faculty and practitioners all can learn. \",\n",
    "\"Yaser S. Abu-Mostafa \\n Professor of Electrical Engineering and Computer Science \\n Machine learning applies to any situation where there is data that we are trying to make sense of, and a target function that we cannot mathematically pin down. The spectrum of applications is huge, going from financial forecasting to medical diagnosis to industrial inspection to recommendation systems, to name a few. The field encompasses neural networks, statistical inference, and data mining. He is also interested in using quantum information theory to shed new light on fundamental techniques in theoretical computer science such as semidefinite programming and approximation algorithms.\",\n",
    "\"American football, referred to as football in the United States and Canada and also known as gridiron,[nb 1] is a team sport played by two teams of eleven players on a rectangular field with goalposts at each end. The offense, which is the team controlling the oval-shaped football, attempts to advance down the field by running with or passing the ball, while the defense, which is the team without control of the ball, aims to stop the offense's advance and aims to take control of the ball for themselves. The offense must advance at least ten yards in four downs, or plays, and otherwise they turn over the football to the defense; if the offense succeeds in advancing ten yards or more, they are given a new set of four downs. Points are primarily scored by advancing the ball into the opposing team's end zone for a touchdown or kicking the ball through the opponent's goalposts for a field goal. The team with the most points at the end of a game wins. \",\n",
    "\"American football is the most popular sport in the United States.The National Football League has the highest average attendance of any sports league in the world. In the United States the game is most often referred to as simply football .There is no single national governing body for American football in the United States or a continental governing body for North America. There is an international governing body, the International Federation of American Football, or IFAF. Befitting its status as a popular sport, football is played in leagues of different size, age and quality, in all regions of the country. Organized football is played almost exclusively by men and boys, although a few amateur and semi-professional women's leagues have begun play in recent years. A team / academy may be referred to as a 'football program' – not to be confused with football program. \",\n",
    "\"Popular Classic Must Reads Books Pride and Prejudice (Paperback) Jane Austen. The Great Gatsby (Paperback) F. 1984 (Kindle Edition) George Orwell, To Kill a Mockingbird (Paperback) Harper Lee. ...The Catcher in the Rye (Paperback) J.D. Salinger. ...Wuthering Heights (Paperback) Emily Brontë ...Lord of the Flies (Paperback) William Golding. Little Women by Louisa May Alcott, Jane Eyre by Charlotte Brontë, Fahrenheit 451 (Kindle Edition) by Ray Bradbury, The Odyssey (Paperback) by Homer, Brave New World (Paperback)  by Aldous Huxley, Of Mice and Men (Paperback) by John Steinbeck, Anna Karenina by Leo Tolstoy, A Tale of Two Cities (Paperback) by Charles Dickens, The Scarlet Letter (Paperback) by Nathaniel Hawthorne, Les Misérables (Mass Market Paperback) by Victor Hugo , Animal Farm by George Orwell\",\n",
    "\"100 must-read classic books, as chosen by our readers. They broke boundaries and challenged conceptions. We asked our readers for their must-reads; from timeless non-fiction to iconic bestsellers, these are their essential recommends. The Great Gatsby F. Scott Fitzgerald  Buy the book 1. The Great Gatsby by F. Scott Fitzgerald.The greatest, most scathing dissection of the hollowness at the heart of the American dream. Hypnotic, tragic, both of its time and completely relevant. One Hundred Years of Solitude,Gabriel Garcia Marquez . Magic realism at its best. Both funny and moving, this book made me reflect for weeks on the inexorable march of time.\",\n",
    "\"We’ve already recommended our picks for the best 50 books of the past 50 years, but now we’re diving deeper into our literary history, temporally speaking. These are our picks for the 50 most essential classic books. You know, the ones that everyone should get around to reading sooner, rather than later. These have meant a great deal to readers throughout the centuries, and they distinguish themselves as firsts and bests, sure, but also unexpected, astonishing, and boundary-breaking additions to the canon. That’s why we’re still reading them. Everyone has his or her own definition of a literary classic, and our choices span the centuries, from the 8th century B.C. to the English Renaissance to the mid-20th century. (We’ve even included a book from the 1990s, as we’re convinced it’s going to go down in history as a classic.) \",\n",
    "\"One of my aims is to begin catching up on all the reading I’ve neglected for, well, the majority of my life. So, I started by googling several combinations of ‘books to read before you die,’ ‘100 most important books,’ ‘books everyone should should read in a lifetime,’ and so on. I discovered that quite a few reputable (and a few not-so-reputable) sources have published such a list. Nice, but it still leaves me at a loss for what to do next. Which list do I go with? After carefully reading through what was on offer I decided to take the collective wisdom from the various sources by painstakingly comparing (well, I hired ‘Vi’ from Vietnam via Elance to painstakingly compare) all of the lists to determine how much overlap existed between them. Here are the 8 lists I started with, amalgamated, and called The Guardian’s The 100 greatest novels of all time.\",\n",
    "\"From Heathcliff to Bovary to Becky Sharp, meet some of the greatest literary creations of all time in our list of 20 essential classic novels to read before you die.They've withstood the passage of time to bewitch countless readers all over the world. But, with such a wealth of great literature, it can be hard to know where to start. Fret not! We've sifted through them to come up with a list of works no book-lover should miss our 20 Classic Books you have to read before you die.\",\n",
    "\"As in England, where the sport first developed, early football in the United States was relatively disorganized and often quite violent. Different towns and schools played by their own sets of rules, but they all involved two sides of a dozen or more men on foot rather than horseback—hence the sport's name—attempting to direct a ball toward goals at opposite ends of the field. With the rising popularity of interscholastic competition, football gradually became more formalized on both sides of the Atlantic during the second half of the nineteenth century. In 1863, English proponents of the relatively non-violent, no-handling version of the game created the Football Association, whose distinctive soccer rules have since become the world's most popular football code. One year earlier, Gerritt Smith Miller established the first formal football club in the United States, Boston Common's Oneida Club.\"\n",
    "]"
   ]
  },
  {
   "cell_type": "code",
   "execution_count": 8,
   "metadata": {},
   "outputs": [],
   "source": [
    "bc = BertClient(ip='192.168.0.82',port=5555,port_out=5556,check_version=False)\n",
    "docs_vec=bc.encode(docs_input)"
   ]
  },
  {
   "cell_type": "code",
   "execution_count": 9,
   "metadata": {},
   "outputs": [],
   "source": [
    "message = \"what is deep learning\"\n",
    "query=bc.encode([message])[0]"
   ]
  },
  {
   "cell_type": "code",
   "execution_count": 10,
   "metadata": {},
   "outputs": [
    {
     "name": "stdout",
     "output_type": "stream",
     "text": [
      "WARNING:tensorflow:From /home/swayam/anaconda3/envs/dia/lib/python3.5/site-packages/tensorflow_core/python/ops/resource_variable_ops.py:1630: calling BaseResourceVariable.__init__ (from tensorflow.python.ops.resource_variable_ops) with constraint is deprecated and will be removed in a future version.\n",
      "Instructions for updating:\n",
      "If using Keras pass *_constraint arguments to layers.\n",
      "WARNING:tensorflow:From /home/swayam/anaconda3/envs/dia/lib/python3.5/site-packages/tensorflow_core/python/ops/nn_impl.py:183: where (from tensorflow.python.ops.array_ops) is deprecated and will be removed in a future version.\n",
      "Instructions for updating:\n",
      "Use tf.where in 2.0, which has the same broadcast rule as np.where\n",
      "WARNING:tensorflow:From /home/swayam/anaconda3/envs/dia/lib/python3.5/site-packages/keras/backend/tensorflow_backend.py:422: The name tf.global_variables is deprecated. Please use tf.compat.v1.global_variables instead.\n",
      "\n"
     ]
    }
   ],
   "source": [
    "model = load_model(MODEL_FILE)"
   ]
  },
  {
   "cell_type": "code",
   "execution_count": 11,
   "metadata": {},
   "outputs": [],
   "source": [
    "queryT = np.asarray(query,np.float32) \n",
    "queryT = queryT.reshape(1,768)"
   ]
  },
  {
   "cell_type": "code",
   "execution_count": 12,
   "metadata": {},
   "outputs": [
    {
     "name": "stdout",
     "output_type": "stream",
     "text": [
      "(14, 768)\n"
     ]
    }
   ],
   "source": [
    "print(np.shape(docs_vec))"
   ]
  },
  {
   "cell_type": "code",
   "execution_count": 13,
   "metadata": {},
   "outputs": [],
   "source": [
    "score = []\n",
    "for doc in docs_vec:\n",
    "    docT = np.asarray(doc,np.float32)\n",
    "    docT = docT.reshape(1,768)\n",
    "    score.append(model.predict([queryT,docT]).tolist()[0][0] )"
   ]
  },
  {
   "cell_type": "code",
   "execution_count": 14,
   "metadata": {},
   "outputs": [
    {
     "data": {
      "text/plain": [
       "[0.39785969257354736,\n",
       " 0.4435214698314667,\n",
       " 0.43376296758651733,\n",
       " 0.4366130530834198,\n",
       " 0.4845733344554901,\n",
       " 0.42506057024002075,\n",
       " 0.3947216272354126,\n",
       " 0.39696863293647766,\n",
       " 0.4114132821559906,\n",
       " 0.4969627559185028,\n",
       " 0.4720151424407959,\n",
       " 0.4856623113155365,\n",
       " 0.48438775539398193,\n",
       " 0.4459558427333832]"
      ]
     },
     "execution_count": 14,
     "metadata": {},
     "output_type": "execute_result"
    }
   ],
   "source": [
    "score"
   ]
  },
  {
   "cell_type": "code",
   "execution_count": 15,
   "metadata": {},
   "outputs": [],
   "source": [
    "topk_idx = np.argsort(score)[::-1][:5]"
   ]
  },
  {
   "cell_type": "code",
   "execution_count": 16,
   "metadata": {},
   "outputs": [],
   "source": [
    "l=[]\n",
    "for idx in topk_idx:\n",
    "    l.append('%s \\n\\n\\n' % (docs_input[idx]))"
   ]
  },
  {
   "cell_type": "code",
   "execution_count": 17,
   "metadata": {},
   "outputs": [
    {
     "data": {
      "text/plain": [
       "['100 must-read classic books, as chosen by our readers. They broke boundaries and challenged conceptions. We asked our readers for their must-reads; from timeless non-fiction to iconic bestsellers, these are their essential recommends. The Great Gatsby F. Scott Fitzgerald  Buy the book 1. The Great Gatsby by F. Scott Fitzgerald.The greatest, most scathing dissection of the hollowness at the heart of the American dream. Hypnotic, tragic, both of its time and completely relevant. One Hundred Years of Solitude,Gabriel Garcia Marquez . Magic realism at its best. Both funny and moving, this book made me reflect for weeks on the inexorable march of time. \\n\\n\\n',\n",
       " 'One of my aims is to begin catching up on all the reading I’ve neglected for, well, the majority of my life. So, I started by googling several combinations of ‘books to read before you die,’ ‘100 most important books,’ ‘books everyone should should read in a lifetime,’ and so on. I discovered that quite a few reputable (and a few not-so-reputable) sources have published such a list. Nice, but it still leaves me at a loss for what to do next. Which list do I go with? After carefully reading through what was on offer I decided to take the collective wisdom from the various sources by painstakingly comparing (well, I hired ‘Vi’ from Vietnam via Elance to painstakingly compare) all of the lists to determine how much overlap existed between them. Here are the 8 lists I started with, amalgamated, and called The Guardian’s The 100 greatest novels of all time. \\n\\n\\n',\n",
       " 'David MacKay \\n The Back Cover \\n Information theory and inference, often taught separately, are here united in one entertaining textbook. These topics lie at the heart of many exciting areas of contemporary science and engineering - communication, signal processing, data mining, machine learning, pattern recognition, computational neuroscience, bioinformatics, and cryptography. This is an extraordinary and important book, generous with insight and rich with detail in statistics, information theory, and probabilistic modeling across a wide swathe of standard, creatively original, and delightfully quirky topics. David MacKay is an uncompromisingly lucid thinker, from whom students, faculty and practitioners all can learn.  \\n\\n\\n',\n",
       " \"From Heathcliff to Bovary to Becky Sharp, meet some of the greatest literary creations of all time in our list of 20 essential classic novels to read before you die.They've withstood the passage of time to bewitch countless readers all over the world. But, with such a wealth of great literature, it can be hard to know where to start. Fret not! We've sifted through them to come up with a list of works no book-lover should miss our 20 Classic Books you have to read before you die. \\n\\n\\n\",\n",
       " 'We’ve already recommended our picks for the best 50 books of the past 50 years, but now we’re diving deeper into our literary history, temporally speaking. These are our picks for the 50 most essential classic books. You know, the ones that everyone should get around to reading sooner, rather than later. These have meant a great deal to readers throughout the centuries, and they distinguish themselves as firsts and bests, sure, but also unexpected, astonishing, and boundary-breaking additions to the canon. That’s why we’re still reading them. Everyone has his or her own definition of a literary classic, and our choices span the centuries, from the 8th century B.C. to the English Renaissance to the mid-20th century. (We’ve even included a book from the 1990s, as we’re convinced it’s going to go down in history as a classic.)  \\n\\n\\n']"
      ]
     },
     "execution_count": 17,
     "metadata": {},
     "output_type": "execute_result"
    }
   ],
   "source": [
    "l"
   ]
  },
  {
   "cell_type": "code",
   "execution_count": null,
   "metadata": {},
   "outputs": [],
   "source": []
  }
 ],
 "metadata": {
  "kernelspec": {
   "display_name": "Python 3",
   "language": "python",
   "name": "python3"
  },
  "language_info": {
   "codemirror_mode": {
    "name": "ipython",
    "version": 3
   },
   "file_extension": ".py",
   "mimetype": "text/x-python",
   "name": "python",
   "nbconvert_exporter": "python",
   "pygments_lexer": "ipython3",
   "version": "3.5.5"
  }
 },
 "nbformat": 4,
 "nbformat_minor": 2
}
